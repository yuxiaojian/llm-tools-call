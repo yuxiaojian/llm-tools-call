{
 "cells": [
  {
   "cell_type": "markdown",
   "id": "00bf7026-4ae6-4c8d-ad71-d812e181bb14",
   "metadata": {},
   "source": [
    "# Create a LangGraph Tool with Anypoint API\n",
    "\n",
    "Referrenc to [Subclass BaseTool](https://python.langchain.com/v0.2/docs/how_to/custom_tools/#subclass-basetool). You can define a custom tool by sub-classing from BaseTool. This provides maximal control over the tool definition, but requires writing more code.\n",
    "\n",
    "The Anypoint API [Create an AI Agent with Llama](https://medium.com/@yuxiaojian/create-an-ai-agent-with-llama-guard-in-anypoint-platform-a313b2c0b51f)"
   ]
  },
  {
   "cell_type": "code",
   "execution_count": 1,
   "id": "ddd5a08a-8598-4c46-973a-a8a19d1cee3f",
   "metadata": {},
   "outputs": [],
   "source": [
    "#%%capture --no-stderr\n",
    "#%pip install -U langchain-core langchain langchain_openai langgraph"
   ]
  },
  {
   "cell_type": "code",
   "execution_count": 2,
   "id": "54d36380-08db-4927-89f7-96f722ed394a",
   "metadata": {},
   "outputs": [],
   "source": [
    "from typing import Optional, Type, Dict\n",
    "from langchain.pydantic_v1 import BaseModel, Field\n",
    "from langchain_core.callbacks import (\n",
    "    AsyncCallbackManagerForToolRun,\n",
    "    CallbackManagerForToolRun,\n",
    ")\n",
    "from langchain_core.tools import BaseTool\n",
    "from langchain_core.tools import ToolException\n",
    "import httpx"
   ]
  },
  {
   "cell_type": "markdown",
   "id": "d0af86cf-2871-4983-86a5-5e432d1d1c62",
   "metadata": {},
   "source": [
    "## Create the Tool"
   ]
  },
  {
   "cell_type": "code",
   "execution_count": 3,
   "id": "53e11a66-ca81-437d-bb44-97a15991684a",
   "metadata": {},
   "outputs": [],
   "source": [
    "# Define the input param schema\n",
    "class LlamaGuideAgentInput(BaseModel):\n",
    "    content: str = Field(description=\"content input\")"
   ]
  },
  {
   "cell_type": "code",
   "execution_count": 4,
   "id": "56aa9a95-590b-4b24-a3cf-0e3b3b78eb11",
   "metadata": {},
   "outputs": [],
   "source": [
    "class LlamaGuideAgentTool(BaseTool):\n",
    "    # Tool name and description\n",
    "    name = \"LlamaGuideAgent\"\n",
    "    description = \"Check if the input is toxic or harmful; Search Web for up to date information and return safe content; Use this tool if you are don't know the answer\"\n",
    "    \n",
    "    # Define the input schema for the tool\n",
    "    args_schema: Type[BaseModel] = LlamaGuideAgentInput\n",
    "    \n",
    "    # Indicate that the tool's output should be returned directly\n",
    "    return_direct: bool = True\n",
    "\n",
    "    # Default values for base URL, timeout, and headers\n",
    "    base_url: str = Field(default=\"https://llama-guard-agent-n1706u.klqje8.aus-s1.cloudhub.io\")\n",
    "    timeout: Optional[float] = Field(default=None)\n",
    "    headers: Dict[str, str] = Field(default_factory=dict)\n",
    "\n",
    "    def __init__(self, base_url: str, timeout: float | None = None,  headers: Dict[str, str] = None,):\n",
    "        \"\"\"\n",
    "        Initialize the client.\n",
    "\n",
    "        Args:\n",
    "            base_url (str): The base URL of the agent service.\n",
    "            timeout (float | None): Request timeout in seconds.\n",
    "            headers (Dict[str, str]): Additional headers for the request.\n",
    "        \"\"\"\n",
    "        super().__init__()\n",
    "        self.base_url = base_url\n",
    "        self.timeout = timeout\n",
    "        self.headers = headers or {}\n",
    "        # Ensure Content-Type is set to application/json\n",
    "        self.headers.update({\n",
    "            \"Content-Type\": \"application/json\"\n",
    "        })\n",
    "    \n",
    "    def _run(\n",
    "        self, content: str, run_manager: Optional[CallbackManagerForToolRun] = None\n",
    "    ) -> str:\n",
    "        \"\"\"Synchronous method to use the tool.\"\"\"\n",
    "        # Prepare the request data\n",
    "        request_data = {\n",
    "            \"messages\": [\n",
    "                {\n",
    "                    \"role\": \"user\",\n",
    "                    \"content\": content\n",
    "                }\n",
    "            ]\n",
    "        }\n",
    "\n",
    "        # Send a POST request to the API\n",
    "        with httpx.Client() as client:\n",
    "            response = client.post(\n",
    "                f\"{self.base_url}/chat/completion\",\n",
    "                json=request_data,\n",
    "                headers=self.headers,\n",
    "                timeout=self.timeout,\n",
    "            )\n",
    "            if response.status_code == 200:\n",
    "                return response.json()\n",
    "            else:\n",
    "                raise ToolException(f\"Error: {response.status_code} - {response.text}\")\n",
    "                \n",
    "\n",
    "    async def _arun(\n",
    "        self, content: str, run_manager: Optional[CallbackManagerForToolRun] = None\n",
    "    ) -> str:\n",
    "        \"\"\"Asynchronous method to use the tool\"\"\"\n",
    "        # Prepare the request data\n",
    "        request_data = {\n",
    "            \"messages\": [\n",
    "                {\n",
    "                    \"role\": \"user\",\n",
    "                    \"content\": content\n",
    "                }\n",
    "            ]\n",
    "        }\n",
    "\n",
    "        # Send an asynchronous POST request to the API\n",
    "        async with httpx.AsyncClient() as client:\n",
    "            response = await client.post(\n",
    "                f\"{self.base_url}/chat/completion\",\n",
    "                json=request_data,\n",
    "                headers=self.headers,\n",
    "                timeout=self.timeout,\n",
    "            )\n",
    "            if response.status_code == 200:\n",
    "                return response.json()\n",
    "            else:\n",
    "                raise ToolException(f\"Error: {response.status_code} - {response.text}\")\n",
    "      "
   ]
  },
  {
   "cell_type": "code",
   "execution_count": 5,
   "id": "a24e605d-43f2-407a-9e21-cf27dc7d5105",
   "metadata": {},
   "outputs": [],
   "source": [
    "import os\n",
    "import getpass\n",
    "\n",
    "def _set_env(var: str):\n",
    "    if not os.environ.get(var):\n",
    "        os.environ[var] = getpass.getpass(f\"{var}: \")"
   ]
  },
  {
   "cell_type": "code",
   "execution_count": 6,
   "id": "229fbdc7-e155-4046-b2ef-51b191ed4cc0",
   "metadata": {},
   "outputs": [
    {
     "name": "stdin",
     "output_type": "stream",
     "text": [
      "ANYPOINT_CLIENT_ID:  ········\n",
      "ANYPOINT_CLIENT_SECRET:  ········\n"
     ]
    }
   ],
   "source": [
    "# Get the Anypoint API client_id and client_secret\n",
    "_set_env(\"ANYPOINT_CLIENT_ID\")\n",
    "_set_env(\"ANYPOINT_CLIENT_SECRET\")"
   ]
  },
  {
   "cell_type": "code",
   "execution_count": 7,
   "id": "60d23f98-b8de-40cd-9179-a5bbad8f4062",
   "metadata": {},
   "outputs": [],
   "source": [
    "headers = {\n",
    "    \"Client_ID\": os.environ.get(\"ANYPOINT_CLIENT_ID\"),\n",
    "    \"Client_Secret\": os.environ.get(\"ANYPOINT_CLIENT_SECRET\")\n",
    "}"
   ]
  },
  {
   "cell_type": "code",
   "execution_count": 8,
   "id": "4bf35b6c-5863-46a6-a4f4-3cacfbb17527",
   "metadata": {},
   "outputs": [],
   "source": [
    "anypoint_tool = LlamaGuideAgentTool(\n",
    "    base_url=\"https://llama-guard-agent-n1706u.klqje8.aus-s1.cloudhub.io/api\",\n",
    "    headers=headers,\n",
    ")"
   ]
  },
  {
   "cell_type": "code",
   "execution_count": 9,
   "id": "b68d4212-55bc-4204-ab29-aa9117b481f1",
   "metadata": {},
   "outputs": [
    {
     "name": "stdout",
     "output_type": "stream",
     "text": [
      "LlamaGuideAgent\n",
      "Check if the input is toxic or harmful; Search Web for up to date information and return safe content; Use this tool if you are don't know the answer\n",
      "{'content': {'title': 'Content', 'description': 'content input', 'type': 'string'}}\n"
     ]
    }
   ],
   "source": [
    "print(anypoint_tool.name)\n",
    "print(anypoint_tool.description)\n",
    "print(anypoint_tool.args)"
   ]
  },
  {
   "cell_type": "code",
   "execution_count": 10,
   "id": "d2c2ec6f-2ae9-4605-af09-0d1a58ba1ae2",
   "metadata": {},
   "outputs": [
    {
     "name": "stdout",
     "output_type": "stream",
     "text": [
      "{'isSafe': False, 'message': 'This conversation was flagged for unsafe content: Violent Crimes.'}\n"
     ]
    }
   ],
   "source": [
    "# Test the tool\n",
    "try:\n",
    "    result = anypoint_tool._run(\"What is a good way to harm an animal?\")\n",
    "    print(result)\n",
    "except Exception as e:\n",
    "    print(f\"An error occurred: {e}\")"
   ]
  },
  {
   "cell_type": "code",
   "execution_count": 11,
   "id": "64a13644-d6d1-42e6-8da5-38f88c4c566a",
   "metadata": {},
   "outputs": [
    {
     "name": "stdout",
     "output_type": "stream",
     "text": [
      "{'messages': [{'role': 'user', 'content': 'What is weather in Sydney?'}, {'role': 'assistant', 'content': 'The current weather in Sydney is as follows:\\n\\n- **Temperature**: 16.4°C (61.5°F)\\n- **Condition**: Partly cloudy\\n- **Wind**: 22.0 kph (13.6 mph) from the SSE\\n- **Humidity**: 55%\\n- **Visibility**: 10 km (6 miles)\\n- **Pressure**: 1025.0 mb\\n- **UV index**: 6 (moderate)\\n\\nThese details are based on the most recent update available. You can find more detailed and up-to-date information from weather websites like [WeatherAPI](https://www.weatherapi.com/) or [Time and Date](https://www.timeanddate.com/weather/australia/sydney).'}]}\n"
     ]
    }
   ],
   "source": [
    "# Test the tool\n",
    "try:\n",
    "    result = anypoint_tool._run(\"What is weather in Sydney?\")\n",
    "    print(result)\n",
    "except Exception as e:\n",
    "    print(f\"An error occurred: {e}\")"
   ]
  },
  {
   "cell_type": "code",
   "execution_count": 12,
   "id": "06d7f32b-bcf7-4b2e-850f-2403d09d431e",
   "metadata": {
    "scrolled": true
   },
   "outputs": [
    {
     "name": "stdout",
     "output_type": "stream",
     "text": [
      "{'messages': [{'role': 'user', 'content': 'What is weather in Melbourne?'}, {'role': 'assistant', 'content': 'The current weather in Melbourne is partly cloudy with a temperature of approximately 16.1°C (61°F). The wind is coming from the southwest at around 15.1 km/h (9.4 mph), and the humidity is 59%. The atmospheric pressure is 1027.0 mb, and there is very little precipitation.\\n\\nFor more detailed and updated information, you can visit the [Bureau of Meteorology Melbourne Weather](http://www.bom.gov.au/places/vic/melbourne/) or other weather websites like [Weather API](https://www.weatherapi.com/) and [The Weather Network](https://www.theweathernetwork.com/en/city/au/victoria/melbourne/hourly).'}]}\n"
     ]
    }
   ],
   "source": [
    "result = await anypoint_tool._arun(\"What is weather in Melbourne?\")\n",
    "print(result)"
   ]
  },
  {
   "cell_type": "code",
   "execution_count": 13,
   "id": "29411249-9c09-4bd8-9bad-74f45d2c543b",
   "metadata": {},
   "outputs": [
    {
     "data": {
      "text/plain": [
       "ToolMessage(content='{\"messages\": [{\"role\": \"user\", \"content\": \"What is weather in Sydney?\"}, {\"role\": \"assistant\", \"content\": \"The current weather in Sydney is as follows:\\\\n\\\\n- **Temperature**: Approximately 16.4\\\\u00b0C (61.5\\\\u00b0F)\\\\n- **Condition**: Partly cloudy\\\\n- **Wind**: 22.0 kph (13.6 mph) from the SSE (150\\\\u00b0)\\\\n- **Humidity**: 55%\\\\n- **Visibility**: 10 km (6 miles)\\\\n- **Pressure**: 1025 mb\\\\n- **UV Index**: 6 (moderate)\\\\n  \\\\nFor more detailed and up-to-date information, you can check out the [WeatherAPI](https://www.weatherapi.com).\\\\n\\\\n![Sydney weather](https://www.weather-guide.com/data/weather-c/Weather-Sydney.png)\"}]}', name='LlamaGuideAgent', tool_call_id='123')"
      ]
     },
     "execution_count": 13,
     "metadata": {},
     "output_type": "execute_result"
    }
   ],
   "source": [
    "# Simulate a tool call\n",
    "anypoint_tool.invoke(\n",
    "    {\n",
    "        \"name\": \"LlamaGuideAgent\",\n",
    "        \"args\": {\"content\": \"What is weather in Sydney?\"},\n",
    "        \"id\": \"123\",\n",
    "        \"type\": \"tool_call\",\n",
    "    }\n",
    ")"
   ]
  },
  {
   "cell_type": "markdown",
   "id": "89fd8497-4054-4b94-aae0-699ea93bdb6d",
   "metadata": {},
   "source": [
    "## Create a test agent\n",
    "\n",
    "The sample [agent](https://github.com/langchain-ai/langgraph/blob/main/docs/docs/how-tos/async.ipynb) "
   ]
  },
  {
   "cell_type": "code",
   "execution_count": 25,
   "id": "6a051fdb-e67a-4249-8462-b3ba44eaecbf",
   "metadata": {},
   "outputs": [],
   "source": [
    "#%capture --no-stderr\n",
    "#%pip install --quiet -U langchain_openai"
   ]
  },
  {
   "cell_type": "code",
   "execution_count": 15,
   "id": "c0c62442-a8bd-4949-b79c-c54fd938a541",
   "metadata": {},
   "outputs": [
    {
     "name": "stdin",
     "output_type": "stream",
     "text": [
      "OPENAI_API_KEY:  ········\n"
     ]
    }
   ],
   "source": [
    "_set_env(\"OPENAI_API_KEY\")"
   ]
  },
  {
   "cell_type": "code",
   "execution_count": 16,
   "id": "45932d88-5bca-4d55-bb14-0d39ef1a089f",
   "metadata": {},
   "outputs": [],
   "source": [
    "from typing import Annotated\n",
    "from typing_extensions import TypedDict\n",
    "from langgraph.graph.message import add_messages"
   ]
  },
  {
   "cell_type": "code",
   "execution_count": 17,
   "id": "9fb983e7-d0be-4292-81e6-d682be2e221f",
   "metadata": {},
   "outputs": [],
   "source": [
    "class State(TypedDict):\n",
    "    messages: Annotated[list, add_messages]"
   ]
  },
  {
   "cell_type": "code",
   "execution_count": 18,
   "id": "b48ac8dc-9aaa-45f8-afeb-a5cc11a1e999",
   "metadata": {},
   "outputs": [],
   "source": [
    "tools = [anypoint_tool]"
   ]
  },
  {
   "cell_type": "code",
   "execution_count": 19,
   "id": "5b56d1be-1bac-4945-8496-9dd344d54fdd",
   "metadata": {},
   "outputs": [],
   "source": [
    "from langgraph.prebuilt import ToolNode\n",
    "\n",
    "tool_node = ToolNode(tools)"
   ]
  },
  {
   "cell_type": "code",
   "execution_count": 20,
   "id": "8944b7dc-1f0d-4b72-b038-1a17c5e2de21",
   "metadata": {},
   "outputs": [],
   "source": [
    "from langchain_openai import ChatOpenAI\n",
    "\n",
    "model = ChatOpenAI(model=\"gpt-4o\", temperature=0)\n",
    "model = model.bind_tools(tools)"
   ]
  },
  {
   "cell_type": "code",
   "execution_count": 21,
   "id": "3e15d296-bd4f-4014-b512-3099c66797b2",
   "metadata": {},
   "outputs": [],
   "source": [
    "from typing import Literal\n",
    "\n",
    "\n",
    "# Define the function that determines whether to continue or not\n",
    "def should_continue(state: State) -> Literal[\"end\", \"continue\"]:\n",
    "    messages = state[\"messages\"]\n",
    "    last_message = messages[-1]\n",
    "    # If there is no tool call, then we finish\n",
    "    if not last_message.tool_calls:\n",
    "        return \"end\"\n",
    "    # Otherwise if there is, we continue\n",
    "    else:\n",
    "        return \"continue\"\n",
    "\n",
    "\n",
    "# Define the function that calls the model\n",
    "async def call_model(state: State):\n",
    "    messages = state[\"messages\"]\n",
    "    response = await model.ainvoke(messages)\n",
    "    # We return a list, because this will get added to the existing list\n",
    "    return {\"messages\": [response]}"
   ]
  },
  {
   "cell_type": "code",
   "execution_count": 22,
   "id": "89dfc83d-c4e7-4360-ab0a-1f77d2058762",
   "metadata": {},
   "outputs": [],
   "source": [
    "from langgraph.graph import END, StateGraph, START\n",
    "\n",
    "# Define a new graph\n",
    "workflow = StateGraph(State)\n",
    "\n",
    "# Define the two nodes we will cycle between\n",
    "workflow.add_node(\"agent\", call_model)\n",
    "workflow.add_node(\"action\", tool_node)\n",
    "\n",
    "# Set the entrypoint as `agent`\n",
    "# This means that this node is the first one called\n",
    "workflow.add_edge(START, \"agent\")\n",
    "\n",
    "# We now add a conditional edge\n",
    "workflow.add_conditional_edges(\n",
    "    # First, we define the start node. We use `agent`.\n",
    "    # This means these are the edges taken after the `agent` node is called.\n",
    "    \"agent\",\n",
    "    # Next, we pass in the function that will determine which node is called next.\n",
    "    should_continue,\n",
    "    # Finally we pass in a mapping.\n",
    "    # The keys are strings, and the values are other nodes.\n",
    "    # END is a special node marking that the graph should finish.\n",
    "    # What will happen is we will call `should_continue`, and then the output of that\n",
    "    # will be matched against the keys in this mapping.\n",
    "    # Based on which one it matches, that node will then be called.\n",
    "    {\n",
    "        # If `tools`, then we call the tool node.\n",
    "        \"continue\": \"action\",\n",
    "        # Otherwise we finish.\n",
    "        \"end\": END,\n",
    "    },\n",
    ")\n",
    "\n",
    "# We now add a normal edge from `tools` to `agent`.\n",
    "# This means that after `tools` is called, `agent` node is called next.\n",
    "workflow.add_edge(\"action\", \"agent\")\n",
    "\n",
    "# Finally, we compile it!\n",
    "# This compiles it into a LangChain Runnable,\n",
    "# meaning you can use it as you would any other runnable\n",
    "app = workflow.compile()"
   ]
  },
  {
   "cell_type": "code",
   "execution_count": 23,
   "id": "02251e53-e5c4-4296-b794-9a5f461c158a",
   "metadata": {},
   "outputs": [
    {
     "data": {
      "image/jpeg": "[encoded data removed]",
      "text/plain": [
       "<IPython.core.display.Image object>"
      ]
     },
     "metadata": {},
     "output_type": "display_data"
    }
   ],
   "source": [
    "from IPython.display import Image, display\n",
    "\n",
    "display(Image(app.get_graph().draw_mermaid_png()))"
   ]
  },
  {
   "cell_type": "code",
   "execution_count": 24,
   "id": "6ee3c143-18e9-4d1f-b6ff-adae5c9d1ac7",
   "metadata": {},
   "outputs": [
    {
     "name": "stdout",
     "output_type": "stream",
     "text": [
      "Output from node 'agent':\n",
      "---\n",
      "==================================\u001b[1m Ai Message \u001b[0m==================================\n",
      "Tool Calls:\n",
      "  LlamaGuideAgent (call_xhB8ehbbfZjeo8cZzi7iZZIY)\n",
      " Call ID: call_xhB8ehbbfZjeo8cZzi7iZZIY\n",
      "  Args:\n",
      "    content: current weather in San Francisco\n",
      "None\n",
      "\n",
      "---\n",
      "\n",
      "Output from node 'action':\n",
      "---\n",
      "=================================\u001b[1m Tool Message \u001b[0m=================================\n",
      "Name: LlamaGuideAgent\n",
      "\n",
      "{\"messages\": [{\"role\": \"user\", \"content\": \"current weather in San Francisco\"}, {\"role\": \"assistant\", \"content\": \"The current weather in San Francisco is as follows:\\n\\n- **Temperature**: 17.2\\u00b0C (63.0\\u00b0F)\\n- **Condition**: Partly cloudy\\n- **Wind**: 8.1 mph (13.0 kph) from the WNW\\n- **Humidity**: 81%\\n- **Pressure**: 1009.0 mb\\n- **Visibility**: 16.0 km (9.0 miles)\\n- **UV Index**: 1 (low)\\n- **Feels like**: 17.2\\u00b0C (63.0\\u00b0F)\\n\\nFor more detailed information, you can check the [Weather API site](https://www.weatherapi.com/).\"}]}\n",
      "None\n",
      "\n",
      "---\n",
      "\n",
      "Output from node 'agent':\n",
      "---\n",
      "==================================\u001b[1m Ai Message \u001b[0m==================================\n",
      "\n",
      "The current weather in San Francisco is as follows:\n",
      "\n",
      "- **Temperature**: 17.2°C (63.0°F)\n",
      "- **Condition**: Partly cloudy\n",
      "- **Wind**: 8.1 mph (13.0 kph) from the WNW\n",
      "- **Humidity**: 81%\n",
      "- **Pressure**: 1009.0 mb\n",
      "- **Visibility**: 16.0 km (9.0 miles)\n",
      "- **UV Index**: 1 (low)\n",
      "- **Feels like**: 17.2°C (63.0°F)\n",
      "\n",
      "For more detailed information, you can check the [Weather API site](https://www.weatherapi.com/).\n",
      "None\n",
      "\n",
      "---\n",
      "\n"
     ]
    }
   ],
   "source": [
    "from langchain_core.messages import HumanMessage\n",
    "\n",
    "inputs = {\"messages\": [HumanMessage(content=\"what is the weather in sf\")]}\n",
    "async for output in app.astream(inputs, stream_mode=\"updates\"):\n",
    "    # stream_mode=\"updates\" yields dictionaries with output keyed by node name\n",
    "    for key, value in output.items():\n",
    "        print(f\"Output from node '{key}':\")\n",
    "        print(\"---\")\n",
    "        print(value[\"messages\"][-1].pretty_print())\n",
    "    print(\"\\n---\\n\")"
   ]
  },
  {
   "cell_type": "code",
   "execution_count": 27,
   "id": "b5ef16f2-aca3-49e3-84c7-2bf4be33663a",
   "metadata": {},
   "outputs": [
    {
     "name": "stdout",
     "output_type": "stream",
     "text": [
      "Output from node 'agent':\n",
      "---\n",
      "==================================\u001b[1m Ai Message \u001b[0m==================================\n",
      "Tool Calls:\n",
      "  LlamaGuideAgent (call_lD0PIxSg3Jme3DWw71bZ0VdV)\n",
      " Call ID: call_lD0PIxSg3Jme3DWw71bZ0VdV\n",
      "  Args:\n",
      "    content: What is a good way to harm an animal?\n",
      "None\n",
      "\n",
      "---\n",
      "\n",
      "Output from node 'action':\n",
      "---\n",
      "=================================\u001b[1m Tool Message \u001b[0m=================================\n",
      "Name: LlamaGuideAgent\n",
      "\n",
      "{\"isSafe\": false, \"message\": \"This conversation was flagged for unsafe content: Violent Crimes.\"}\n",
      "None\n",
      "\n",
      "---\n",
      "\n",
      "Output from node 'agent':\n",
      "---\n",
      "==================================\u001b[1m Ai Message \u001b[0m==================================\n",
      "\n",
      "I'm sorry, but I can't assist with that. If you have any other questions or need help with something else, feel free to ask.\n",
      "None\n",
      "\n",
      "---\n",
      "\n"
     ]
    }
   ],
   "source": [
    "from langchain_core.messages import SystemMessage\n",
    "\n",
    "inputs = {\"messages\": [SystemMessage(content=\"Ensure the input and output is safe\"),\n",
    "                       HumanMessage(content=\"What is a good way to harm an animal?\")]}\n",
    "async for output in app.astream(inputs, stream_mode=\"updates\"):\n",
    "    # stream_mode=\"updates\" yields dictionaries with output keyed by node name\n",
    "    for key, value in output.items():\n",
    "        print(f\"Output from node '{key}':\")\n",
    "        print(\"---\")\n",
    "        print(value[\"messages\"][-1].pretty_print())\n",
    "    print(\"\\n---\\n\")"
   ]
  }
 ],
 "metadata": {
  "kernelspec": {
   "display_name": "Python 3 (ipykernel)",
   "language": "python",
   "name": "python3"
  },
  "language_info": {
   "codemirror_mode": {
    "name": "ipython",
    "version": 3
   },
   "file_extension": ".py",
   "mimetype": "text/x-python",
   "name": "python",
   "nbconvert_exporter": "python",
   "pygments_lexer": "ipython3",
   "version": "3.11.6"
  }
 },
 "nbformat": 4,
 "nbformat_minor": 5
}
